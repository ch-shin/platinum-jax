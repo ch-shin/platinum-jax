{
 "cells": [
  {
   "cell_type": "code",
   "execution_count": 1,
   "metadata": {},
   "outputs": [],
   "source": [
    "import jax\n",
    "import jax.numpy as jnp\n",
    "import matplotlib.pyplot as plt\n",
    "\n"
   ]
  },
  {
   "cell_type": "markdown",
   "metadata": {},
   "source": [
    "$$\\int_{x=0}^{x=1}\\int_{y=0}^{y=2}e^xy^x dydx$$\n",
    "To obtain N for the 95% confidence interval, we use Hoeffding's theorem\n",
    "$$P(|S_N-E[S_N]|\\geq Nt) \\leq 2\\exp(-2N^2t^2/\\sum_{i=1}^N(b_i-a_i)^2)$$\n",
    "where $a_i \\leq e^xy^ \\leq b_i$. Here, $a_i=0, b_i=2e$. Thus, solving $2\\exp(-2N 0.05 ^2/4e^2) = 0.05$ yields $N=4e^2/(0.05)^2(log(2/0.05))$"
   ]
  },
  {
   "cell_type": "code",
   "execution_count": 9,
   "metadata": {},
   "outputs": [
    {
     "data": {
      "text/plain": [
       "Array(43611.742, dtype=float32, weak_type=True)"
      ]
     },
     "execution_count": 9,
     "metadata": {},
     "output_type": "execute_result"
    }
   ],
   "source": [
    "N=4*jnp.exp(2)/((0.05)**2) * (jnp.log(2/0.05))\n",
    "N"
   ]
  },
  {
   "cell_type": "code",
   "execution_count": 12,
   "metadata": {},
   "outputs": [
    {
     "name": "stdout",
     "output_type": "stream",
     "text": [
      "Estimate:  2.1122105\n"
     ]
    }
   ],
   "source": [
    "N = int(N)\n",
    "key = jax.random.PRNGKey(2024)\n",
    "x = jax.random.uniform(key, shape=(N, ))\n",
    "y = 2 * jax.random.uniform(key, shape=(N, ))\n",
    "\n",
    "print(\"Estimate: \", (jnp.exp(x) * (y ** x)).mean())"
   ]
  }
 ],
 "metadata": {
  "kernelspec": {
   "display_name": "Python 3.9.18 ('platinum-jax')",
   "language": "python",
   "name": "python3"
  },
  "language_info": {
   "codemirror_mode": {
    "name": "ipython",
    "version": 3
   },
   "file_extension": ".py",
   "mimetype": "text/x-python",
   "name": "python",
   "nbconvert_exporter": "python",
   "pygments_lexer": "ipython3",
   "version": "3.9.18"
  },
  "orig_nbformat": 4,
  "vscode": {
   "interpreter": {
    "hash": "41bc9031ac37d35e22639d6634a129b896c199cf9dba4c22b09e19c9178f5511"
   }
  }
 },
 "nbformat": 4,
 "nbformat_minor": 2
}
